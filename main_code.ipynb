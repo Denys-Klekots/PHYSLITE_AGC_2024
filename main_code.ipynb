{
 "cells": [
  {
   "cell_type": "code",
   "execution_count": 1,
   "id": "775cc4e1-7914-49a4-a085-99d4a6432432",
   "metadata": {
    "tags": []
   },
   "outputs": [
    {
     "name": "stderr",
     "output_type": "stream",
     "text": [
      "/usr/local/lib/python3.10/site-packages/pandas/core/computation/expressions.py:21: UserWarning: Pandas requires version '2.8.4' or newer of 'numexpr' (version '2.7.3' currently installed).\n",
      "  from pandas.core.computation.check import NUMEXPR_INSTALLED\n"
     ]
    },
    {
     "name": "stdout",
     "output_type": "stream",
     "text": [
      "awkward: 2.6.3\n",
      "dask-awkward: 2024.3.0\n",
      "uproot: 5.3.2\n",
      "hist: 2.7.2\n",
      "coffea: 2024.4.0\n"
     ]
    }
   ],
   "source": [
    "import datetime\n",
    "import glob\n",
    "import json\n",
    "import os\n",
    "from collections import defaultdict\n",
    "from pathlib import Path\n",
    "import traceback\n",
    "import time\n",
    "import warnings\n",
    "import copy\n",
    "import pathlib\n",
    "\n",
    "import awkward as ak\n",
    "import dask\n",
    "import dask_awkward as dak\n",
    "import hist.dask\n",
    "import coffea\n",
    "import numpy as np\n",
    "import uproot\n",
    "from dask.distributed import Client\n",
    "import matplotlib.pyplot as plt\n",
    "import matplotlib as mpl\n",
    "mpl.style.use(\"ggplot\")\n",
    "\n",
    "from coffea.nanoevents import NanoEventsFactory, PHYSLITESchema\n",
    "from coffea import dataset_tools\n",
    "\n",
    "import urllib\n",
    "import utils\n",
    "import warnings\n",
    "\n",
    "warnings.filterwarnings(\"ignore\")\n",
    "\n",
    "# import input_files.utils\n",
    "\n",
    "from dask.distributed import LocalCluster, Client, progress, performance_report\n",
    "\n",
    "# local: single thread, single worker\n",
    "# cluster = LocalCluster(n_workers=1, processes=False, threads_per_worker=1)\n",
    "# client = Client(cluster)\n",
    "\n",
    "# for UChicago\n",
    "# update this to point to your own client!\n",
    "# client = Client(\"tls://localhost:8786\")\n",
    "\n",
    "# create a folder for output tracking of uproot.open setup\n",
    "MEASUREMENT_PATH = pathlib.Path(datetime.datetime.now().strftime(\"measurements/%Y-%m-%d_%H-%M-%S\"))\n",
    "os.makedirs(MEASUREMENT_PATH)\n",
    "\n",
    "print(f\"awkward: {ak.__version__}\")\n",
    "print(f\"dask-awkward: {dak.__version__}\")\n",
    "print(f\"uproot: {uproot.__version__}\")\n",
    "print(f\"hist: {hist.__version__}\")\n",
    "print(f\"coffea: {coffea.__version__}\")"
   ]
  },
  {
   "cell_type": "code",
   "execution_count": 2,
   "id": "53ff059a-47a7-425f-b2a5-7b14359e87b7",
   "metadata": {
    "tags": []
   },
   "outputs": [],
   "source": [
    "mc_file = \"https://cernbox.cern.ch/remote.php/dav/public-files/BPIO76iUaeYuhaF/DAOD_PHYSLITE.37233417._000052.pool.root.1\"\n",
    "\n",
    "# download for subsequent use\n",
    "local_file_name = \"ttbar.root\"\n",
    "if not os.path.exists(local_file_name):\n",
    "    urllib.request.urlretrieve(mc_file, filename=local_file_name)\n",
    "\n",
    "    \n",
    "def filter_name(name):\n",
    "    return name in [\n",
    "        \"AnalysisElectronsAuxDyn.pt\",\n",
    "        \"AnalysisElectronsAuxDyn.eta\",\n",
    "        \"AnalysisElectronsAuxDyn.phi\",\n",
    "        \"AnalysisElectronsAuxDyn.m\",\n",
    "        \n",
    "        \"AnalysisMuonsAuxDyn.pt\",\n",
    "        \"AnalysisMuonsAuxDyn.eta\",\n",
    "        \"AnalysisMuonsAuxDyn.phi\",\n",
    "        \"AnalysisMuonsAuxDyn.m\",\n",
    "        \n",
    "        \"AnalysisJetsAuxDyn.pt\",\n",
    "        \"AnalysisJetsAuxDyn.eta\",\n",
    "        \"AnalysisJetsAuxDyn.phi\",\n",
    "        \"AnalysisJetsAuxDyn.m\",\n",
    "        \n",
    "        \"BTagging_AntiKt4EMPFlowAuxDyn.DL1dv01_pb\",\n",
    "        \"BTagging_AntiKt4EMPFlowAuxDyn.DL1dv01_pc\",\n",
    "        \"BTagging_AntiKt4EMPFlowAuxDyn.DL1dv01_pu\"\n",
    "    ]\n",
    "\n",
    "\n",
    "events = NanoEventsFactory.from_root(\n",
    "    {local_file_name: \"CollectionTree\"},\n",
    "    schemaclass=PHYSLITESchema,\n",
    "    delayed=True,\n",
    "    uproot_options=dict(filter_name=filter_name),\n",
    ").events()"
   ]
  },
  {
   "cell_type": "code",
   "execution_count": 3,
   "id": "db628f0e-6e39-42a7-afec-a05eb85ed6e7",
   "metadata": {
    "tags": []
   },
   "outputs": [],
   "source": [
    "def calculate_jets_btagCSVV2(events):\n",
    "    \n",
    "    BTagging = events.BTagging_AntiKt4EMPFlow\n",
    "    \n",
    "    f_c = 0.018\n",
    "    DDL1 = BTagging.DL1dv01_pb/(f_c*BTagging.DL1dv01_pc + (1-f_c)*BTagging.DL1dv01_pu)\n",
    "    # DDL1 = dak.map_partitions(dask.array.log, DDL1)\n",
    "    DDL1 = np.log(DDL1)\n",
    "\n",
    "    return DDL1"
   ]
  },
  {
   "cell_type": "code",
   "execution_count": 4,
   "id": "a86ce149-5aef-48aa-adcb-b5afbe9dbdd2",
   "metadata": {
    "tags": []
   },
   "outputs": [
    {
     "name": "stdout",
     "output_type": "stream",
     "text": [
      "['pt', '_eventindex', 'eta', 'phi', 'm', 'btagCSVV2']\n"
     ]
    }
   ],
   "source": [
    "jets = events.Jets\n",
    "\n",
    "jets[\"btagCSVV2\"] = calculate_jets_btagCSVV2(events)\n",
    "\n",
    "# print(events.Jets.fields)\n",
    "print(jets.fields)"
   ]
  },
  {
   "cell_type": "code",
   "execution_count": 5,
   "id": "fe47a73c-ef86-46da-883d-b4cf2c32bc54",
   "metadata": {
    "tags": []
   },
   "outputs": [],
   "source": [
    "def calculate_trijet_mass(events):\n",
    "    # pT > 30 GeV for leptons, > 25 GeV for jets\n",
    "    selected_electrons = events.Electrons[events.Electrons.pt > 30 & (np.abs(events.Electrons.eta) < 2.1)]\n",
    "    selected_muons = events.Muons[events.Muons.pt > 30 & (np.abs(events.Muons.eta) < 2.1)]\n",
    "    \n",
    "    jets = events.Jets\n",
    "    jets[\"btagCSVV2\"] = calculate_jets_btagCSVV2(events)\n",
    "    selected_jets = jets[events.Jets.pt > 25 & (np.abs(events.Jets.eta) < 2.4)] \n",
    "    \n",
    "    # single lepton requirement\n",
    "    event_filters = ((ak.count(selected_electrons.pt, axis=1) + ak.count(selected_muons.pt, axis=1)) == 1)\n",
    "    # at least four jets\n",
    "    event_filters = event_filters & (ak.count(selected_jets.pt, axis=1) >= 4)\n",
    "    # at least two b-tagged jets (\"tag\" means score above threshold)\n",
    "    B_TAG_THRESHOLD = 2.456\n",
    "    event_filters = event_filters & (ak.sum(selected_jets.btagCSVV2 < B_TAG_THRESHOLD, axis=1) >= 2)\n",
    "    \n",
    "    # apply filters\n",
    "    selected_jets = selected_jets[event_filters]\n",
    "    \n",
    "    trijet = ak.combinations(selected_jets, 3, fields=[\"j1\", \"j2\", \"j3\"])  # trijet candidate\n",
    "    trijet[\"p4\"] = trijet.j1 + trijet.j2 + trijet.j3  # four-momentum of tri-jet system\n",
    "\n",
    "    trijet[\"max_btag\"] = np.maximum(trijet.j1.btagCSVV2, np.maximum(trijet.j2.btagCSVV2, trijet.j3.btagCSVV2))\n",
    "    trijet = trijet[trijet.max_btag < B_TAG_THRESHOLD]  # at least one-btag in trijet candidates\n",
    "    # pick trijet candidate with largest pT and calculate mass of system\n",
    "    trijet_mass = trijet[\"p4\"][ak.argmax(trijet.p4.pt, axis=1, keepdims=True)].mass\n",
    "    \n",
    "    \n",
    "    return ak.flatten(trijet_mass)"
   ]
  },
  {
   "cell_type": "code",
   "execution_count": 6,
   "id": "f3eaaf0d-41d8-410e-8a02-8662684ce301",
   "metadata": {
    "tags": []
   },
   "outputs": [],
   "source": [
    "reconstructed_top_mass = calculate_trijet_mass(events)\n",
    "\n",
    "\n",
    "hist_reco_mtop = hist.dask.Hist.new.Reg(16, 0, 375000, label=\"$m_{bjj}$\").Double().fill(reconstructed_top_mass)"
   ]
  },
  {
   "cell_type": "code",
   "execution_count": 7,
   "id": "cd89a58a-fa06-4152-8238-e0fe1e863c51",
   "metadata": {
    "tags": []
   },
   "outputs": [
    {
     "data": {
      "image/png": "[encoded data removed]",
      "text/plain": [
       "<Figure size 640x480 with 1 Axes>"
      ]
     },
     "metadata": {},
     "output_type": "display_data"
    }
   ],
   "source": [
    "# perform computation and visualize\n",
    "artists = hist_reco_mtop.compute().plot()"
   ]
  },
  {
   "cell_type": "code",
   "execution_count": 8,
   "id": "b927cb8d-0b28-4678-bf7b-9a5b25bddfca",
   "metadata": {},
   "outputs": [
    {
     "data": {
      "image/png": "[encoded data removed]",
      "text/plain": [
       "<Figure size 640x480 with 1 Axes>"
      ]
     },
     "execution_count": 8,
     "metadata": {},
     "output_type": "execute_result"
    }
   ],
   "source": [
    "# and annotate the visualization\n",
    "fig_dir = Path.cwd() / \"figures\"\n",
    "fig_dir.mkdir(parents=True, exist_ok=True)\n",
    "\n",
    "ax = artists[0].stairs.axes\n",
    "fig = ax.get_figure()\n",
    "ax.vlines(175000, 0, 2200, colors=[\"grey\"], linestyle=\"dotted\") \n",
    "ax.text(180000, 150, \"$m_{t} = 175000$ MeV\")\n",
    "ax.set_xlim([0, 375000])\n",
    "ax.set_ylim([0, 2200])\n",
    "\n",
    "fig.savefig(fig_dir / \"trijet_mass.png\", dpi=300)\n",
    "fig"
   ]
  },
  {
   "cell_type": "markdown",
   "id": "a2a177e6-4269-453b-9059-d2e79027898c",
   "metadata": {},
   "source": [
    "## Now do the same with dataset tools"
   ]
  },
  {
   "cell_type": "code",
   "execution_count": 9,
   "id": "2f75cca7-2b19-43a7-a493-a3738a22eb3e",
   "metadata": {},
   "outputs": [],
   "source": [
    "filenames = [\n",
    "    {\"network\":\"root://eospublic.cern.ch//eos/opendata/atlas/rucio/data15_13TeV/DAOD_PHYSLITE.37001626._000001.pool.root.1\", \"local\" : \"PHYSLITE_ATLAS_FILES/37001626._000001.pool.root\"},\n",
    "    {\"network\":\"root://eospublic.cern.ch//eos/opendata/atlas/rucio/data15_13TeV/DAOD_PHYSLITE.37001626._000002.pool.root.1\", \"local\" : \"PHYSLITE_ATLAS_FILES/37001626._000002.pool.root\"},\n",
    "    {\"network\":\"root://eospublic.cern.ch//eos/opendata/atlas/rucio/data15_13TeV/DAOD_PHYSLITE.37001626._000003.pool.root.1\", \"local\" : \"PHYSLITE_ATLAS_FILES/37001626._000003.pool.root\"},\n",
    "    {\"network\":\"root://eospublic.cern.ch//eos/opendata/atlas/rucio/data15_13TeV/DAOD_PHYSLITE.37001626._000004.pool.root.1\", \"local\" : \"PHYSLITE_ATLAS_FILES/37001626._000004.pool.root\"},\n",
    "    # {\"network\":\"root://eospublic.cern.ch//eos/opendata/atlas/rucio/data15_13TeV/DAOD_PHYSLITE.37001626._000005.pool.root.1\", \"local\" : \"PHYSLITE_ATLAS_FILES/37001626._000005.pool.root\"},\n",
    "    # {\"network\":\"root://eospublic.cern.ch//eos/opendata/atlas/rucio/data15_13TeV/DAOD_PHYSLITE.37001626._000006.pool.root.1\", \"local\" : \"PHYSLITE_ATLAS_FILES/37001626._000006.pool.root\"},\n",
    "    \n",
    "    # {\"network\":\"root://eospublic.cern.ch//eos/opendata/atlas/rucio/data15_13TeV/DAOD_PHYSLITE.37001626._000007.pool.root.1\", \"local\" : \"PHYSLITE_ATLAS_FILES/37001626._000007.pool.root\"},\n",
    "    # {\"network\":\"root://eospublic.cern.ch//eos/opendata/atlas/rucio/data15_13TeV/DAOD_PHYSLITE.37001626._000008.pool.root.1\", \"local\" : \"PHYSLITE_ATLAS_FILES/37001626._000008.pool.root\"},\n",
    "    # {\"network\":\"root://eospublic.cern.ch//eos/opendata/atlas/rucio/data15_13TeV/DAOD_PHYSLITE.37001626._000009.pool.root.1\", \"local\" : \"PHYSLITE_ATLAS_FILES/37001626._000009.pool.root\"},\n",
    "    # {\"network\":\"root://eospublic.cern.ch//eos/opendata/atlas/rucio/data15_13TeV/DAOD_PHYSLITE.37001626._000010.pool.root.1\", \"local\" : \"PHYSLITE_ATLAS_FILES/37001626._000010.pool.root\"},\n",
    "    # {\"network\":\"root://eospublic.cern.ch//eos/opendata/atlas/rucio/data15_13TeV/DAOD_PHYSLITE.37001626._000011.pool.root.1\", \"local\" : \"PHYSLITE_ATLAS_FILES/37001626._000011.pool.root\"},\n",
    "    # {\"network\":\"root://eospublic.cern.ch//eos/opendata/atlas/rucio/data15_13TeV/DAOD_PHYSLITE.37001626._000012.pool.root.1\", \"local\" : \"PHYSLITE_ATLAS_FILES/37001626._000012.pool.root\"},\n",
    "    # {\"network\":\"root://eospublic.cern.ch//eos/opendata/atlas/rucio/data15_13TeV/DAOD_PHYSLITE.37001626._000013.pool.root.1\", \"local\" : \"PHYSLITE_ATLAS_FILES/37001626._000013.pool.root\"},\n",
    "    # {\"network\":\"root://eospublic.cern.ch//eos/opendata/atlas/rucio/data15_13TeV/DAOD_PHYSLITE.37001626._000014.pool.root.1\", \"local\" : \"PHYSLITE_ATLAS_FILES/37001626._000014.pool.root\"},\n",
    "    # {\"network\":\"root://eospublic.cern.ch//eos/opendata/atlas/rucio/data15_13TeV/DAOD_PHYSLITE.37001626._000015.pool.root.1\", \"local\" : \"PHYSLITE_ATLAS_FILES/37001626._000015.pool.root\"},\n",
    "    # {\"network\":\"root://eospublic.cern.ch//eos/opendata/atlas/rucio/data15_13TeV/DAOD_PHYSLITE.37001626._000017.pool.root.1\", \"local\" : \"PHYSLITE_ATLAS_FILES/37001626._000017.pool.root\"},    \n",
    "    # {\"network\":\"root://eospublic.cern.ch//eos/opendata/atlas/rucio/data15_13TeV/DAOD_PHYSLITE.37001626._000016.pool.root.1\", \"local\" : \"PHYSLITE_ATLAS_FILES/37001626._000016.pool.root\"}\n",
    "]\n",
    "\n",
    "for names in filenames:\n",
    "    \n",
    "    local_file_name = names[\"local\"]\n",
    "    network_file_loc = names[\"network\"]\n",
    "    \n",
    "    if not os.path.exists(local_file_name):\n",
    "        urllib.request.urlretrieve(mc_file, filename=local_file_name)\n",
    "\n",
    "        \n",
    "fileset = {\n",
    "            \"t-tbar\"  : {\n",
    "                        'files': {names[\"local\"]:'CollectionTree' for names in filenames},\n",
    "                        }\n",
    "          }\n",
    "        \n",
    "\n",
    "samples, _ = dataset_tools.preprocess(fileset)"
   ]
  },
  {
   "cell_type": "code",
   "execution_count": 10,
   "id": "17626171-b6dd-4ebc-9ed2-ddb4ac6737d7",
   "metadata": {},
   "outputs": [],
   "source": [
    "def create_histogram(events):\n",
    "    \n",
    "    \n",
    "    # pT > 30 GeV for leptons, > 25 GeV for jets\n",
    "    selected_electrons = events.Electrons[events.Electrons.pt > 30 & (np.abs(events.Electrons.eta) < 2.1)]\n",
    "    selected_muons = events.Muons[events.Muons.pt > 30 & (np.abs(events.Muons.eta) < 2.1)]\n",
    "    \n",
    "    jets = events.Jets\n",
    "    jets[\"btagCSVV2\"] = calculate_jets_btagCSVV2(events)\n",
    "    selected_jets = jets[events.Jets.pt > 25 & (np.abs(events.Jets.eta) < 2.4)] \n",
    "\n",
    "    # single lepton requirement\n",
    "    event_filters = ((ak.count(selected_electrons.pt, axis=1) + ak.count(selected_muons.pt, axis=1)) == 1)\n",
    "    # at least four jets\n",
    "    event_filters = event_filters & (ak.count(selected_jets.pt, axis=1) >= 4)\n",
    "    # at least two b-tagged jets (\"tag\" means score above threshold)\n",
    "    B_TAG_THRESHOLD = 2.456\n",
    "    event_filters = event_filters & (ak.sum(selected_jets.btagCSVV2 < B_TAG_THRESHOLD, axis=1) >= 2)   \n",
    "    \n",
    "    # apply filters\n",
    "    selected_jets = selected_jets[event_filters]\n",
    "    \n",
    "    trijet = ak.combinations(selected_jets, 3, fields=[\"j1\", \"j2\", \"j3\"])  # trijet candidate\n",
    "    trijet[\"p4\"] = trijet.j1 + trijet.j2 + trijet.j3  # four-momentum of tri-jet system \n",
    "    \n",
    "    \n",
    "    trijet[\"max_btag\"] = np.maximum(trijet.j1.btagCSVV2, np.maximum(trijet.j2.btagCSVV2, trijet.j3.btagCSVV2))\n",
    "    trijet = trijet[trijet.max_btag < B_TAG_THRESHOLD]  # at least one-btag in trijet candidates\n",
    "    # pick trijet candidate with largest pT and calculate mass of system\n",
    "    trijet_mass = trijet[\"p4\"][ak.argmax(trijet.p4.pt, axis=1, keepdims=True)].mass\n",
    "    \n",
    "    reconstructed_top_mass = ak.flatten(trijet_mass)\n",
    "    \n",
    "    hist_reco_mtop = hist.dask.Hist.new.Reg(16, 0, 375000, label=\"$m_{bjj}$\").Double().fill(reconstructed_top_mass)\n",
    "  \n",
    "    \n",
    "    return {\"hist_mtop\": hist_reco_mtop}\n",
    "    "
   ]
  },
  {
   "cell_type": "code",
   "execution_count": 11,
   "id": "e6f75e37-5d00-4bb4-b54d-e22bfed38ec4",
   "metadata": {},
   "outputs": [],
   "source": [
    "tasks = dataset_tools.apply_to_fileset(create_histogram, \n",
    "                                       samples, \n",
    "                                       schemaclass=PHYSLITESchema,\n",
    "                                       uproot_options=dict(filter_name=filter_name)\n",
    "                                      )"
   ]
  },
  {
   "cell_type": "code",
   "execution_count": 12,
   "id": "f202a92c-b0b1-45e9-98a0-612a0cdac403",
   "metadata": {},
   "outputs": [
    {
     "name": "stdout",
     "output_type": "stream",
     "text": [
      "CPU times: user 13.3 s, sys: 2.63 s, total: 16 s\n",
      "Wall time: 13.6 s\n"
     ]
    }
   ],
   "source": [
    "%%time\n",
    "\n",
    "# execute\n",
    "(out, ) = dask.compute(tasks)"
   ]
  },
  {
   "cell_type": "code",
   "execution_count": 13,
   "id": "41bec84b-8dd7-45ca-ad36-ee3557ba0fe0",
   "metadata": {},
   "outputs": [],
   "source": [
    "# stack all the histograms together, as we processed each file separately\n",
    "full_histogram = sum([v[\"hist_mtop\"] for v in out.values()])"
   ]
  },
  {
   "cell_type": "code",
   "execution_count": 14,
   "id": "5f8686a7-bc7f-450f-8cb3-05f4f2e313fb",
   "metadata": {
    "tags": []
   },
   "outputs": [
    {
     "data": {
      "image/png": "[encoded data removed]",
      "text/plain": [
       "<Figure size 640x480 with 1 Axes>"
      ]
     },
     "metadata": {},
     "output_type": "display_data"
    }
   ],
   "source": [
    "# plot\n",
    "artists = full_histogram.plot(histtype=\"fill\")\n",
    "\n",
    "ax = artists[0].stairs.axes\n",
    "ax.set_ylabel(\"Events\");"
   ]
  },
  {
   "cell_type": "code",
   "execution_count": null,
   "id": "cd1a51a6-920e-4df1-8f03-5dfc41be4928",
   "metadata": {},
   "outputs": [],
   "source": []
  }
 ],
 "metadata": {
  "kernelspec": {
   "display_name": "Python 3 (ipykernel)",
   "language": "python",
   "name": "python3"
  },
  "language_info": {
   "codemirror_mode": {
    "name": "ipython",
    "version": 3
   },
   "file_extension": ".py",
   "mimetype": "text/x-python",
   "name": "python",
   "nbconvert_exporter": "python",
   "pygments_lexer": "ipython3",
   "version": "3.10.12"
  }
 },
 "nbformat": 4,
 "nbformat_minor": 5
}
