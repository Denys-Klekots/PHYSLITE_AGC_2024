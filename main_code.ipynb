{
 "cells": [
  {
   "cell_type": "code",
   "execution_count": 1,
   "id": "775cc4e1-7914-49a4-a085-99d4a6432432",
   "metadata": {
    "tags": []
   },
   "outputs": [
    {
     "name": "stderr",
     "output_type": "stream",
     "text": [
      "/usr/local/lib/python3.10/site-packages/pandas/core/computation/expressions.py:21: UserWarning: Pandas requires version '2.8.4' or newer of 'numexpr' (version '2.7.3' currently installed).\n",
      "  from pandas.core.computation.check import NUMEXPR_INSTALLED\n"
     ]
    },
    {
     "name": "stdout",
     "output_type": "stream",
     "text": [
      "awkward: 2.6.3\n",
      "dask-awkward: 2024.3.0\n",
      "uproot: 5.3.2\n",
      "hist: 2.7.2\n",
      "coffea: 2024.4.0\n"
     ]
    }
   ],
   "source": [
    "import datetime\n",
    "import glob\n",
    "import json\n",
    "import os\n",
    "from collections import defaultdict\n",
    "from pathlib import Path\n",
    "import traceback\n",
    "import time\n",
    "import warnings\n",
    "import copy\n",
    "import pathlib\n",
    "\n",
    "import awkward as ak\n",
    "import dask\n",
    "import dask_awkward as dak\n",
    "import hist.dask\n",
    "import coffea\n",
    "import numpy as np\n",
    "import uproot\n",
    "from dask.distributed import Client\n",
    "import matplotlib.pyplot as plt\n",
    "import matplotlib as mpl\n",
    "mpl.style.use(\"ggplot\")\n",
    "\n",
    "from coffea.nanoevents import NanoEventsFactory, PHYSLITESchema\n",
    "from coffea import dataset_tools\n",
    "\n",
    "import urllib\n",
    "import utils\n",
    "import warnings\n",
    "\n",
    "warnings.filterwarnings(\"ignore\")\n",
    "\n",
    "import input_files.utils\n",
    "\n",
    "from dask.distributed import LocalCluster, Client, progress, performance_report\n",
    "\n",
    "# local: single thread, single worker\n",
    "# cluster = LocalCluster(n_workers=1, processes=False, threads_per_worker=1)\n",
    "# client = Client(cluster)\n",
    "\n",
    "# for UChicago\n",
    "# update this to point to your own client!\n",
    "# client = Client(\"tls://localhost:8786\")\n",
    "\n",
    "# create a folder for output tracking of uproot.open setup\n",
    "MEASUREMENT_PATH = pathlib.Path(datetime.datetime.now().strftime(\"measurements/%Y-%m-%d_%H-%M-%S\"))\n",
    "os.makedirs(MEASUREMENT_PATH)\n",
    "\n",
    "print(f\"awkward: {ak.__version__}\")\n",
    "print(f\"dask-awkward: {dak.__version__}\")\n",
    "print(f\"uproot: {uproot.__version__}\")\n",
    "print(f\"hist: {hist.__version__}\")\n",
    "print(f\"coffea: {coffea.__version__}\")"
   ]
  },
  {
   "cell_type": "code",
   "execution_count": 14,
   "id": "53ff059a-47a7-425f-b2a5-7b14359e87b7",
   "metadata": {
    "tags": []
   },
   "outputs": [
    {
     "name": "stdout",
     "output_type": "stream",
     "text": [
      "pt\n",
      "_eventindex\n",
      "eta\n",
      "phi\n",
      "m\n",
      "JetConstitScaleMomentum_pt\n",
      "JetConstitScaleMomentum_eta\n",
      "JetConstitScaleMomentum_phi\n",
      "JetConstitScaleMomentum_m\n",
      "btaggingLink\n",
      "ActiveArea4vec_eta\n",
      "ActiveArea4vec_m\n",
      "ActiveArea4vec_phi\n",
      "ActiveArea4vec_pt\n",
      "DetectorEta\n",
      "EMFrac\n",
      "JVFCorr\n",
      "Timing\n",
      "NumTrkPt1000\n",
      "NumTrkPt500\n",
      "EnergyPerSampling\n",
      "SumPtChargedPFOPt500\n",
      "SumPtTrkPt500\n",
      "TrackWidthPt1000\n",
      "PSFrac\n",
      "Width\n",
      "DFCommonJets_fJvt\n",
      "HadronConeExclTruthLabelID\n",
      "HadronConeExclExtendedTruthLabelID\n",
      "isJvtHS\n",
      "GhostTrack\n",
      "PartonTruthLabelID\n",
      "ConeTruthLabelID\n",
      "GhostMuonSegmentCount\n",
      "DFCommonJets_QGTagger_NTracks\n",
      "DFCommonJets_QGTagger_TracksWidth\n",
      "DFCommonJets_QGTagger_TracksC1\n",
      "NNJvtPass\n"
     ]
    }
   ],
   "source": [
    "mc_file = \"https://cernbox.cern.ch/remote.php/dav/public-files/BPIO76iUaeYuhaF/DAOD_PHYSLITE.37233417._000052.pool.root.1\"\n",
    "\n",
    "# download for subsequent use\n",
    "local_file_name = \"ttbar.root\"\n",
    "if not os.path.exists(local_file_name):\n",
    "    urllib.request.urlretrieve(mc_file, filename=local_file_name)\n",
    "mc_file\n",
    "    \n",
    "# def filter_name(name):\n",
    "#     return name in [\n",
    "#         \"AnalysisElectronsAuxDyn.pt\",\n",
    "#         \"AnalysisElectronsAuxDyn.eta\",\n",
    "#         \"AnalysisElectronsAuxDyn.phi\",\n",
    "#         \"AnalysisElectronsAuxDyn.m\",\n",
    "        \n",
    "#         \"AnalysisMuonsAuxDyn.pt\",\n",
    "#         \"AnalysisMuonsAuxDyn.eta\",\n",
    "#         \"AnalysisMuonsAuxDyn.phi\",\n",
    "#         \"AnalysisMuonsAuxDyn.m\",\n",
    "        \n",
    "#         \"AnalysisJetsAuxDyn.pt\",\n",
    "#         \"AnalysisJetsAuxDyn.eta\",\n",
    "#         \"AnalysisJetsAuxDyn.phi\",\n",
    "#         \"AnalysisJetsAuxDyn.m\",\n",
    "        \n",
    "#         \"BTagging_AntiKt4EMPFlow.DL1dv01_pb\",\n",
    "#         \"BTagging_AntiKt4EMPFlow.DL1dv01_pc\",\n",
    "#         \"BTagging_AntiKt4EMPFlow.DL1dv01_pu\"\n",
    "#     ]\n",
    "\n",
    "\n",
    "# events = NanoEventsFactory.from_root(\n",
    "#     {local_file_name: \"CollectionTree\"},\n",
    "#     schemaclass=PHYSLITESchema,\n",
    "#     delayed=True,\n",
    "#     uproot_options=dict(filter_name=filter_name),\n",
    "# ).events()\n",
    "\n",
    "events = NanoEventsFactory.from_root(\n",
    "    {local_file_name: \"CollectionTree\"},\n",
    "    schemaclass=PHYSLITESchema,\n",
    "    delayed=True\n",
    ").events()\n",
    "\n",
    "\n",
    "for string in events.Jets.fields:\n",
    "    print(string)"
   ]
  },
  {
   "cell_type": "code",
   "execution_count": 24,
   "id": "db628f0e-6e39-42a7-afec-a05eb85ed6e7",
   "metadata": {
    "tags": []
   },
   "outputs": [],
   "source": [
    "def calculate_jets_btagCSVV2(events):\n",
    "    \n",
    "    BTagging = events.BTagging_AntiKt4EMPFlow\n",
    "    \n",
    "    f_c = 0.018\n",
    "    DDL1 = BTagging.DL1dv01_pb/(f_c*BTagging.DL1dv01_pc + (1-f_c)*BTagging.DL1dv01_pu)\n",
    "    # DDL1 = dak.map_partitions(dask.array.log, DDL1)\n",
    "    DDL1 = np.log(DDL1)\n",
    "\n",
    "    return DDL1"
   ]
  },
  {
   "cell_type": "code",
   "execution_count": 25,
   "id": "a86ce149-5aef-48aa-adcb-b5afbe9dbdd2",
   "metadata": {
    "tags": []
   },
   "outputs": [
    {
     "name": "stdout",
     "output_type": "stream",
     "text": [
      "['pt', '_eventindex', 'eta', 'phi', 'm', 'JetConstitScaleMomentum_pt', 'JetConstitScaleMomentum_eta', 'JetConstitScaleMomentum_phi', 'JetConstitScaleMomentum_m', 'btaggingLink', 'ActiveArea4vec_eta', 'ActiveArea4vec_m', 'ActiveArea4vec_phi', 'ActiveArea4vec_pt', 'DetectorEta', 'EMFrac', 'JVFCorr', 'Timing', 'NumTrkPt1000', 'NumTrkPt500', 'EnergyPerSampling', 'SumPtChargedPFOPt500', 'SumPtTrkPt500', 'TrackWidthPt1000', 'PSFrac', 'Width', 'DFCommonJets_fJvt', 'HadronConeExclTruthLabelID', 'HadronConeExclExtendedTruthLabelID', 'isJvtHS', 'GhostTrack', 'PartonTruthLabelID', 'ConeTruthLabelID', 'GhostMuonSegmentCount', 'DFCommonJets_QGTagger_NTracks', 'DFCommonJets_QGTagger_TracksWidth', 'DFCommonJets_QGTagger_TracksC1', 'NNJvtPass', 'btagCSVV2']\n"
     ]
    }
   ],
   "source": [
    "jets = events.Jets\n",
    "\n",
    "jets[\"btagCSVV2\"] = calculate_jets_btagCSVV2(events)\n",
    "\n",
    "# print(events.Jets.fields)\n",
    "print(jets.fields)"
   ]
  },
  {
   "cell_type": "code",
   "execution_count": 4,
   "id": "fe47a73c-ef86-46da-883d-b4cf2c32bc54",
   "metadata": {
    "tags": []
   },
   "outputs": [],
   "source": [
    "def calculate_trijet_mass(events):\n",
    "    # pT > 30 GeV for leptons, > 25 GeV for jets\n",
    "    selected_electrons = events.Electrons[events.Electrons.pt > 30 & (np.abs(events.Electrons.eta) < 2.1)]\n",
    "    selected_muons = events.Muons[events.Muons.pt > 30 & (np.abs(events.Muons.eta) < 2.1)]\n",
    "    \n",
    "    jets = events.Jets\n",
    "    jets[\"btagCSVV2\"] = calculate_jets_btagCSVV2(events)\n",
    "    selected_jets = jets[events.Jets.pt > 25 & (np.abs(events.Jets.eta) < 2.4)] \n",
    "    \n",
    "    # single lepton requirement\n",
    "    event_filters = ((ak.count(selected_electrons.pt, axis=1) + ak.count(selected_muons.pt, axis=1)) == 1)\n",
    "    # at least four jets\n",
    "    event_filters = event_filters & (ak.count(selected_jets.pt, axis=1) >= 4)\n",
    "    # at least two b-tagged jets (\"tag\" means score above threshold)\n",
    "    B_TAG_THRESHOLD = 2.456\n",
    "    event_filters = event_filters & (ak.sum(selected_jets.btagCSVV2 < B_TAG_THRESHOLD, axis=1) >= 2)\n",
    "    \n",
    "    # apply filters\n",
    "    selected_jets = selected_jets[event_filters]\n",
    "    \n",
    "    trijet = ak.combinations(selected_jets, 3, fields=[\"j1\", \"j2\", \"j3\"])  # trijet candidate\n",
    "    trijet[\"p4\"] = trijet.j1 + trijet.j2 + trijet.j3  # four-momentum of tri-jet system\n",
    "\n",
    "    trijet[\"max_btag\"] = np.maximum(trijet.j1.btagCSVV2, np.maximum(trijet.j2.btagCSVV2, trijet.j3.btagCSVV2))\n",
    "    trijet = trijet[trijet.max_btag < B_TAG_THRESHOLD]  # at least one-btag in trijet candidates\n",
    "    # pick trijet candidate with largest pT and calculate mass of system\n",
    "    trijet_mass = trijet[\"p4\"][ak.argmax(trijet.p4.pt, axis=1, keepdims=True)].mass\n",
    "    \n",
    "    return ak.flatten(trijet_mass)"
   ]
  },
  {
   "cell_type": "code",
   "execution_count": 5,
   "id": "f3eaaf0d-41d8-410e-8a02-8662684ce301",
   "metadata": {
    "tags": []
   },
   "outputs": [],
   "source": [
    "reconstructed_top_mass = calculate_trijet_mass(events)\n",
    "\n",
    "\n",
    "hist_reco_mtop = hist.dask.Hist.new.Reg(16, 0, 375000, label=\"$m_{bjj}$\").Double().fill(reconstructed_top_mass)"
   ]
  },
  {
   "cell_type": "code",
   "execution_count": 6,
   "id": "cd89a58a-fa06-4152-8238-e0fe1e863c51",
   "metadata": {
    "tags": []
   },
   "outputs": [
    {
     "data": {
      "image/png": "[encoded data removed]",
      "text/plain": [
       "<Figure size 640x480 with 1 Axes>"
      ]
     },
     "metadata": {},
     "output_type": "display_data"
    }
   ],
   "source": [
    "# perform computation and visualize\n",
    "artists = hist_reco_mtop.compute().plot()"
   ]
  },
  {
   "cell_type": "code",
   "execution_count": 7,
   "id": "b927cb8d-0b28-4678-bf7b-9a5b25bddfca",
   "metadata": {},
   "outputs": [
    {
     "data": {
      "image/png": "[encoded data removed]",
      "text/plain": [
       "<Figure size 640x480 with 1 Axes>"
      ]
     },
     "execution_count": 7,
     "metadata": {},
     "output_type": "execute_result"
    }
   ],
   "source": [
    "# and annotate the visualization\n",
    "fig_dir = Path.cwd() / \"figures\"\n",
    "fig_dir.mkdir(parents=True, exist_ok=True)\n",
    "\n",
    "ax = artists[0].stairs.axes\n",
    "fig = ax.get_figure()\n",
    "ax.vlines(175000, 0, 2200, colors=[\"grey\"], linestyle=\"dotted\") \n",
    "ax.text(180000, 150, \"$m_{t} = 175000$ MeV\")\n",
    "ax.set_xlim([0, 375000])\n",
    "ax.set_ylim([0, 2200])\n",
    "\n",
    "fig.savefig(fig_dir / \"trijet_mass.png\", dpi=300)\n",
    "fig"
   ]
  },
  {
   "cell_type": "code",
   "execution_count": 8,
   "id": "235eb69b-2964-4fc6-ac24-ad8326075979",
   "metadata": {
    "tags": []
   },
   "outputs": [],
   "source": [
    "B_TAG_THRESHOLD = 2.456\n",
    "\n",
    "# perform object selection\n",
    "def object_selection(events):\n",
    "    elecs = events.Electron\n",
    "    muons = events.Muon\n",
    "    jets = events.Jet\n",
    "\n",
    "    jets[\"btagCSVV2\"] = calculate_jets_btagCSVV2(events)\n",
    "    \n",
    "    \n",
    "    electron_reqs = (elecs.pt > 30) & (np.abs(elecs.eta) < 2.1) & (elecs.cutBased == 4) & (elecs.sip3d < 4)\n",
    "    muon_reqs = ((muons.pt > 30) & (np.abs(muons.eta) < 2.1) & (muons.tightId) & (muons.sip3d < 4) &\n",
    "                 (muons.pfRelIso04_all < 0.15))\n",
    "    jet_reqs = (jets.pt > 30) & (np.abs(jets.eta) < 2.4) & (jets.isTightLeptonVeto)\n",
    "\n",
    "    # Only keep objects that pass our requirements\n",
    "    elecs = elecs[electron_reqs]\n",
    "    muons = muons[muon_reqs]\n",
    "    jets = jets[jet_reqs]\n",
    "    \n",
    "    \n",
    "# event selection for 4j1b and 4j2b\n",
    "def region_selection(elecs, muons, jets):\n",
    "    ######### Store boolean masks with PackedSelection ##########\n",
    "    selections = PackedSelection(dtype='uint64')\n",
    "    # Basic selection criteria\n",
    "    selections.add(\"exactly_1l\", (ak.num(elecs) + ak.num(muons)) == 1)\n",
    "    selections.add(\"atleast_4j\", ak.num(jets) >= 4)\n",
    "    selections.add(\"exactly_1b\", ak.sum(jets.btagCSVV2 > B_TAG_THRESHOLD, axis=1) == 1)\n",
    "    selections.add(\"atleast_2b\", ak.sum(jets.btagCSVV2 > B_TAG_THRESHOLD, axis=1) >= 2)\n",
    "    # Complex selection criteria\n",
    "    selections.add(\"4j1b\", selections.all(\"exactly_1l\", \"atleast_4j\", \"exactly_1b\"))\n",
    "    selections.add(\"4j2b\", selections.all(\"exactly_1l\", \"atleast_4j\", \"atleast_2b\"))\n",
    "\n",
    "    return selections.all(\"4j1b\"), selections.all(\"4j2b\")\n",
    "\n",
    "\n",
    "\n",
    "# observable calculation for 4j2b\n",
    "def calculate_m_reco_top(jets):\n",
    "    # reconstruct hadronic top as bjj system with largest pT\n",
    "    trijet = ak.combinations(jets, 3, fields=[\"j1\", \"j2\", \"j3\"])  # trijet candidates\n",
    "    trijet[\"p4\"] = trijet.j1 + trijet.j2 + trijet.j3  # four-momentum of tri-jet system\n",
    "    trijet[\"max_btag\"] = np.maximum(trijet.j1.btagCSVV2,\n",
    "                                    np.maximum(trijet.j2.btagCSVV2, trijet.j3.btagCSVV2))\n",
    "    trijet = trijet[trijet.max_btag > B_TAG_THRESHOLD]  # at least one-btag in candidates\n",
    "    # pick trijet candidate with largest pT and calculate mass of system\n",
    "    trijet_mass = trijet[\"p4\"][ak.argmax(trijet.p4.pt, axis=1, keepdims=True)].mass\n",
    "    observable = ak.flatten(trijet_mass)\n",
    "\n",
    "    return observable\n",
    "\n",
    "\n",
    "# create histograms with observables\n",
    "def create_histograms(events):\n",
    "    hist_4j1b = (\n",
    "        hist.dask.Hist.new.Reg(25, 50, 550, name=\"HT\", label=r\"$H_T$ [GeV]\")\n",
    "        .StrCat([], name=\"process\", label=\"Process\", growth=True)\n",
    "        .StrCat([], name=\"variation\", label=\"Systematic variation\", growth=True)\n",
    "        .Weight()\n",
    "    )\n",
    "\n",
    "    hist_4j2b = (\n",
    "        hist.dask.Hist.new.Reg(25, 50, 550, name=\"m_reco_top\", label=r\"$m_{bjj}$ [GeV]\")\n",
    "        .StrCat([], name=\"process\", label=\"Process\", growth=True)\n",
    "        .StrCat([], name=\"variation\", label=\"Systematic variation\", growth=True)\n",
    "        .Weight()\n",
    "    )\n",
    "\n",
    "    process = events.metadata[\"process\"]  # \"ttbar\" etc.\n",
    "    variation = events.metadata[\"variation\"]  # \"nominal\" etc.\n",
    "    process_label = events.metadata[\"process_label\"]  # nicer LaTeX labels\n",
    "\n",
    "    # normalization for MC\n",
    "    x_sec = events.metadata[\"xsec\"]\n",
    "    nevts_total = events.metadata[\"nevts\"]\n",
    "    lumi = 3378 # /pb\n",
    "    if process != \"data\":\n",
    "        xsec_weight = x_sec * lumi / nevts_total\n",
    "    else:\n",
    "        xsec_weight = 1\n",
    "\n",
    "    elecs, muons, jets = object_selection(events)\n",
    "\n",
    "    # region selection\n",
    "    selection_4j1b, selection_4j2b = region_selection(elecs, muons, jets)\n",
    "\n",
    "    # 4j1b: HT\n",
    "    observable_4j1b = ak.sum(jets[selection_4j1b].pt, axis=-1)\n",
    "    hist_4j1b.fill(observable_4j1b, weight=xsec_weight, process=process_label, variation=variation)\n",
    "\n",
    "    # 4j2b: m_reco_top\n",
    "    observable_4j2b = calculate_m_reco_top(jets[selection_4j2b])\n",
    "    hist_4j2b.fill(observable_4j2b, weight=xsec_weight, process=process_label, variation=variation)\n",
    "\n",
    "    return {\"4j1b\": hist_4j1b, \"4j2b\": hist_4j2b}"
   ]
  },
  {
   "cell_type": "code",
   "execution_count": null,
   "id": "2697530e-d62c-4394-bddc-0da4b03d4c77",
   "metadata": {
    "tags": []
   },
   "outputs": [],
   "source": [
    "# fileset preparation\n",
    "N_FILES_MAX_PER_SAMPLE = 1\n",
    "# compared to coffea 0.7: list of file paths becomes list of dicts (path: trename)\n",
    "fileset = utils.file_input.construct_fileset(N_FILES_MAX_PER_SAMPLE)\n",
    "\n",
    "# fileset = {\"ttbar__nominal\": fileset[\"ttbar__nominal\"]}  # to only process nominal ttbar\n",
    "# fileset"
   ]
  },
  {
   "cell_type": "code",
   "execution_count": null,
   "id": "2f75cca7-2b19-43a7-a493-a3738a22eb3e",
   "metadata": {},
   "outputs": [],
   "source": [
    "%%time\n",
    "# pre-process\n",
    "samples, _ = dataset_tools.preprocess(fileset, step_size=250_000) \n",
    " \n",
    "# workaround for https://github.com/CoffeaTeam/coffea/issues/1050 (metadata gets dropped, already fixed) \n",
    "for k, v in samples.items():\n",
    "    v[\"metadata\"] = fileset[k][\"metadata\"]"
   ]
  },
  {
   "cell_type": "code",
   "execution_count": null,
   "id": "17626171-b6dd-4ebc-9ed2-ddb4ac6737d7",
   "metadata": {},
   "outputs": [],
   "source": []
  }
 ],
 "metadata": {
  "kernelspec": {
   "display_name": "Python 3 (ipykernel)",
   "language": "python",
   "name": "python3"
  },
  "language_info": {
   "codemirror_mode": {
    "name": "ipython",
    "version": 3
   },
   "file_extension": ".py",
   "mimetype": "text/x-python",
   "name": "python",
   "nbconvert_exporter": "python",
   "pygments_lexer": "ipython3",
   "version": "3.10.12"
  }
 },
 "nbformat": 4,
 "nbformat_minor": 5
}
